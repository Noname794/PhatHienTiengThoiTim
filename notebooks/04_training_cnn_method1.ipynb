{
 "cells": [
  {
   "cell_type": "markdown",
   "metadata": {},
   "source": [
    "## Các điểm chính:\n",
    "1. ✅ **Cycle-based segmentation** (1→2→3→4)\n",
    "2. ✅ **SR=4000Hz, MAX_LEN=3000**\n",
    "3. ✅ **Butterworth low-pass filter (cutoff=500Hz)**\n",
    "4. ✅ **Scattering J=6**\n",
    "5. ✅ **Simpler architecture**: 2 Conv blocks\n",
    "6. ✅ **2-class classification**: Absent vs Present (loại bỏ Unknown)\n",
    "7. ✅ **5-fold Cross Validation**"
   ]
  },
  {
   "cell_type": "code",
   "execution_count": null,
   "metadata": {},
   "outputs": [
    {
     "name": "stdout",
     "output_type": "stream",
     "text": [
      "TensorFlow version: 2.20.0\n",
      "✅ Đã tải tất cả thư viện!\n"
     ]
    }
   ],
   "source": [
    "# 1. Import thư viện\n",
    "import os\n",
    "import sys\n",
    "import numpy as np\n",
    "import matplotlib.pyplot as plt\n",
    "import seaborn as sns\n",
    "from sklearn.model_selection import train_test_split, StratifiedKFold\n",
    "from sklearn.metrics import confusion_matrix, classification_report, accuracy_score\n",
    "\n",
    "import tensorflow as tf\n",
    "from tensorflow.keras.models import Sequential\n",
    "from tensorflow.keras.layers import Input, Conv1D, LeakyReLU, MaxPooling1D, BatchNormalization, Flatten, Dense, Dropout, ReLU\n",
    "from tensorflow.keras.optimizers import Adam\n",
    "from tensorflow.keras.callbacks import EarlyStopping, ModelCheckpoint\n",
    "\n",
    "# Import preprocessing module\n",
    "sys.path.append('../src')\n",
    "from data_preprocessing import HeartSoundPreprocessor\n",
    "\n",
    "print(f\"TensorFlow version: {tf.__version__}\")\n",
    "print(\"✅ Đã tải tất cả thư viện!\")"
   ]
  },
  {
   "cell_type": "markdown",
   "metadata": {},
   "source": [
    "## 2. Cấu hình tham số"
   ]
  },
  {
   "cell_type": "code",
   "execution_count": 2,
   "metadata": {},
   "outputs": [
    {
     "name": "stdout",
     "output_type": "stream",
     "text": [
      "📁 Thư mục dữ liệu: C:\\Users\\Admin\\Downloads\\namCuoi\\new_nc\\v2\\VIP\\data\\raw\\training_data\n",
      "📁 Thư mục xử lý: C:\\Users\\Admin\\Downloads\\namCuoi\\new_nc\\v2\\VIP\\data\\processed_cnn_method\n",
      "\n",
      "⚙️ Cấu hình:\n",
      "   - SR = 4000 Hz\n",
      "   - MAX_LEN = 3000 samples\n",
      "   - J = 6\n",
      "   - Cutoff = 500 Hz\n"
     ]
    }
   ],
   "source": [
    "# Đường dẫn\n",
    "RAW_DATA_DIR = '../data/raw/training_data/'\n",
    "METADATA_FILE = os.path.join(os.path.dirname(RAW_DATA_DIR.rstrip('/')), 'training_data.csv')\n",
    "PROCESSED_DATA_DIR = '../data/processed_cnn_method/'\n",
    "MODEL_PATH = '../results/models/1dcnn_method_best.h5'\n",
    "\n",
    "# Tham số\n",
    "SR = 4000  # Sampling rate cao hơn\n",
    "MAX_LEN = 3000  # Độ dài cycle\n",
    "J = 6  # Scattering depth\n",
    "CUTOFF_FREQ = 500  # Butterworth filter cutoff\n",
    "\n",
    "# Tham số training\n",
    "EPOCHS = 50\n",
    "BATCH_SIZE = 32\n",
    "LEARNING_RATE = 1e-3\n",
    "CV_FOLDS = 5\n",
    "EARLY_STOPPING_PATIENCE = 5\n",
    "\n",
    "# Tạo thư mục\n",
    "os.makedirs(PROCESSED_DATA_DIR, exist_ok=True)\n",
    "os.makedirs(os.path.dirname(MODEL_PATH), exist_ok=True)\n",
    "\n",
    "print(f\"📁 Thư mục dữ liệu: {os.path.abspath(RAW_DATA_DIR)}\")\n",
    "print(f\"📁 Thư mục xử lý: {os.path.abspath(PROCESSED_DATA_DIR)}\")\n",
    "print(f\"\\n⚙️ Cấu hình:\")\n",
    "print(f\"   - SR = {SR} Hz\")\n",
    "print(f\"   - MAX_LEN = {MAX_LEN} samples\")\n",
    "print(f\"   - J = {J}\")\n",
    "print(f\"   - Cutoff = {CUTOFF_FREQ} Hz\")"
   ]
  },
  {
   "cell_type": "markdown",
   "metadata": {},
   "source": [
    "## 3. Khởi tạo Preprocessor"
   ]
  },
  {
   "cell_type": "code",
   "execution_count": null,
   "metadata": {},
   "outputs": [
    {
     "name": "stdout",
     "output_type": "stream",
     "text": [
      "✅ Đã định nghĩa helper functions!\n"
     ]
    }
   ],
   "source": [
    "# Khởi tạo preprocessor với các tham số\n",
    "preprocessor = HeartSoundPreprocessor(\n",
    "    sr=SR,\n",
    "    max_len=MAX_LEN,\n",
    "    cutoff_freq=CUTOFF_FREQ,\n",
    "    scattering_j=J\n",
    ")\n",
    "\n",
    "print(\"✅ Đã khởi tạo HeartSoundPreprocessor!\")"
   ]
  },
  {
   "cell_type": "markdown",
   "metadata": {},
   "source": [
    "## 4. Model Architecture"
   ]
  },
  {
   "cell_type": "code",
   "execution_count": 4,
   "metadata": {},
   "outputs": [
    {
     "name": "stdout",
     "output_type": "stream",
     "text": [
      "✅ Đã định nghĩa model architecture!\n"
     ]
    }
   ],
   "source": [
    "def build_model_cnn(input_shape):\n",
    "    \"\"\"\n",
    "    Model architecture:\n",
    "    - 2 Conv blocks (128, 64 filters)\n",
    "    - LeakyReLU + MaxPooling + BatchNorm\n",
    "    - 3 Dense layers với Dropout\n",
    "    - 2 output classes (Absent=0, Present=1)\n",
    "    \"\"\"\n",
    "    model = Sequential([\n",
    "        Input(shape=input_shape),\n",
    "        \n",
    "        # Conv Block 1\n",
    "        Conv1D(128, kernel_size=3, padding='same'),\n",
    "        LeakyReLU(),\n",
    "        MaxPooling1D(pool_size=2),\n",
    "        BatchNormalization(),\n",
    "        \n",
    "        # Conv Block 2\n",
    "        Conv1D(64, kernel_size=3, padding='same'),\n",
    "        LeakyReLU(),\n",
    "        MaxPooling1D(pool_size=2),\n",
    "        BatchNormalization(),\n",
    "        \n",
    "        # Dense layers\n",
    "        Flatten(),\n",
    "        Dense(128),\n",
    "        Dropout(0.3),\n",
    "        LeakyReLU(),\n",
    "        \n",
    "        Dense(64),\n",
    "        Dropout(0.3),\n",
    "        LeakyReLU(),\n",
    "        \n",
    "        Dense(32),\n",
    "        ReLU(),\n",
    "        \n",
    "        # Output: 2 classes (Absent=0, Present=1)\n",
    "        Dense(2, activation='softmax')\n",
    "    ])\n",
    "    \n",
    "    model.compile(\n",
    "        optimizer=Adam(learning_rate=LEARNING_RATE),\n",
    "        loss='sparse_categorical_crossentropy',\n",
    "        metrics=['accuracy']\n",
    "    )\n",
    "    \n",
    "    return model\n",
    "\n",
    "print(\"✅ Đã định nghĩa model architecture!\")"
   ]
  },
  {
   "cell_type": "markdown",
   "metadata": {},
   "source": [
    "## 4. Load Data và Feature Extraction"
   ]
  },
  {
   "cell_type": "code",
   "execution_count": null,
   "metadata": {},
   "outputs": [
    {
     "name": "stdout",
     "output_type": "stream",
     "text": [
      "✅ Đã tải labels cho 874 bệnh nhân (loại bỏ Unknown)\n",
      "   - Absent (0): 695\n",
      "   - Present (1): 179\n"
     ]
    }
   ],
   "source": [
    "# Xử lý dataset bằng preprocessing module\n",
    "print(\"🔄 Bắt đầu xử lý recordings...\\n\")\n",
    "\n",
    "X, y = preprocessor.process_dataset(\n",
    "    raw_data_dir=RAW_DATA_DIR,\n",
    "    metadata_file=METADATA_FILE,\n",
    "    use_scattering=True,\n",
    "    verbose=True\n",
    ")"
   ]
  },
  {
   "cell_type": "markdown",
   "metadata": {},
   "source": [
    "## 5. Balance Train Set"
   ]
  },
  {
   "cell_type": "code",
   "execution_count": null,
   "metadata": {},
   "outputs": [],
   "source": [
    "# (Optional) Lưu dữ liệu đã xử lý để tái sử dụng\n",
    "# preprocessor.save_processed_data(X_balanced, y_balanced, PROCESSED_DATA_DIR, prefix='balanced')\n",
    "\n",
    "# (Optional) Load dữ liệu đã xử lý (nếu đã chạy lần trước)\n",
    "# X_balanced, y_balanced = preprocessor.load_processed_data(PROCESSED_DATA_DIR, prefix='balanced')"
   ]
  },
  {
   "cell_type": "code",
   "execution_count": null,
   "metadata": {},
   "outputs": [
    {
     "name": "stdout",
     "output_type": "stream",
     "text": [
      "🔄 Bắt đầu xử lý recordings...\n"
     ]
    },
    {
     "data": {
      "application/vnd.jupyter.widget-view+json": {
       "model_id": "e40ea428f248423187f4cfb9f98981f5",
       "version_major": 2,
       "version_minor": 0
      },
      "text/plain": [
       "Processing:   0%|          | 0/3163 [00:00<?, ?it/s]"
      ]
     },
     "metadata": {},
     "output_type": "display_data"
    },
    {
     "name": "stdout",
     "output_type": "stream",
     "text": [
      "\n",
      "✅ Hoàn thành!\n",
      "   Total samples: 60420\n",
      "   - Absent (0): 47606 (78.8%)\n",
      "   - Present (1): 12814 (21.2%)\n",
      "   Feature shape: (60420, 26, 47)\n"
     ]
    }
   ],
   "source": [
    "# Balance dataset bằng preprocessing module\n",
    "X_balanced, y_balanced = preprocessor.balance_dataset(X, y, random_state=42)"
   ]
  },
  {
   "cell_type": "markdown",
   "metadata": {},
   "source": [
    "## 6. Split Train/Test"
   ]
  },
  {
   "cell_type": "code",
   "execution_count": null,
   "metadata": {},
   "outputs": [
    {
     "name": "stdout",
     "output_type": "stream",
     "text": [
      "Số samples sau balancing: 25628\n",
      "   - Absent (0): 12814\n",
      "   - Present (1): 12814\n"
     ]
    }
   ],
   "source": [
    "X_train, X_test, y_train, y_test = train_test_split(\n",
    "    X_balanced, y_balanced,\n",
    "    test_size=0.2,\n",
    "    stratify=y_balanced,\n",
    "    random_state=42\n",
    ")\n",
    "\n",
    "print(f\"Train set: {X_train.shape}\")\n",
    "print(f\"Test set: {X_test.shape}\")"
   ]
  },
  {
   "cell_type": "markdown",
   "metadata": {},
   "source": [
    "## 7. Training với 5-Fold Cross Validation"
   ]
  },
  {
   "cell_type": "code",
   "execution_count": 8,
   "metadata": {},
   "outputs": [
    {
     "name": "stdout",
     "output_type": "stream",
     "text": [
      "Train set: (20502, 26, 47)\n",
      "Test set: (5126, 26, 47)\n"
     ]
    }
   ],
   "source": [
    "X_train, X_test, y_train, y_test = train_test_split(\n",
    "    X_balanced, y_balanced,\n",
    "    test_size=0.2,\n",
    "    stratify=y_balanced,\n",
    "    random_state=42\n",
    ")\n",
    "\n",
    "print(f\"Train set: {X_train.shape}\")\n",
    "print(f\"Test set: {X_test.shape}\")"
   ]
  },
  {
   "cell_type": "markdown",
   "metadata": {},
   "source": [
    "## 8. Final Training & Test"
   ]
  },
  {
   "cell_type": "code",
   "execution_count": 9,
   "metadata": {},
   "outputs": [
    {
     "name": "stdout",
     "output_type": "stream",
     "text": [
      "🚀 Bắt đầu Cross Validation...\n",
      "\n",
      "\n",
      "============================================================\n",
      "Fold 1/5\n",
      "============================================================\n",
      "Validation Accuracy: 0.8227\n",
      "\n",
      "============================================================\n",
      "Fold 2/5\n",
      "============================================================\n",
      "Validation Accuracy: 0.8113\n",
      "\n",
      "============================================================\n",
      "Fold 3/5\n",
      "============================================================\n",
      "Validation Accuracy: 0.8149\n",
      "\n",
      "============================================================\n",
      "Fold 4/5\n",
      "============================================================\n",
      "Validation Accuracy: 0.7854\n",
      "\n",
      "============================================================\n",
      "Fold 5/5\n",
      "============================================================\n",
      "Validation Accuracy: 0.8005\n",
      "\n",
      "============================================================\n",
      "📊 CROSS VALIDATION RESULTS\n",
      "============================================================\n",
      "CV Accuracies: ['0.8227', '0.8113', '0.8149', '0.7854', '0.8005']\n",
      "Mean: 0.8069\n",
      "Std: 0.0129\n",
      "============================================================\n"
     ]
    }
   ],
   "source": [
    "skf = StratifiedKFold(n_splits=CV_FOLDS, shuffle=True, random_state=42)\n",
    "fold_acc = []\n",
    "\n",
    "print(\"🚀 Bắt đầu Cross Validation...\\n\")\n",
    "\n",
    "for fold, (train_idx, val_idx) in enumerate(skf.split(X_train, y_train), 1):\n",
    "    print(f\"\\n{'='*60}\")\n",
    "    print(f\"Fold {fold}/{CV_FOLDS}\")\n",
    "    print(f\"{'='*60}\")\n",
    "    \n",
    "    # Build model\n",
    "    model = build_model_cnn(X_train.shape[1:])\n",
    "    \n",
    "    # Train\n",
    "    history = model.fit(\n",
    "        X_train[train_idx], y_train[train_idx],\n",
    "        validation_data=(X_train[val_idx], y_train[val_idx]),\n",
    "        epochs=15,\n",
    "        batch_size=BATCH_SIZE,\n",
    "        verbose=0\n",
    "    )\n",
    "    \n",
    "    # Evaluate\n",
    "    _, acc = model.evaluate(X_train[val_idx], y_train[val_idx], verbose=0)\n",
    "    fold_acc.append(acc)\n",
    "    print(f\"Validation Accuracy: {acc:.4f}\")\n",
    "\n",
    "print(f\"\\n{'='*60}\")\n",
    "print(\"📊 CROSS VALIDATION RESULTS\")\n",
    "print(f\"{'='*60}\")\n",
    "print(f\"CV Accuracies: {[f'{acc:.4f}' for acc in fold_acc]}\")\n",
    "print(f\"Mean: {np.mean(fold_acc):.4f}\")\n",
    "print(f\"Std: {np.std(fold_acc):.4f}\")\n",
    "print(f\"{'='*60}\")"
   ]
  },
  {
   "cell_type": "markdown",
   "metadata": {},
   "source": [
    "## 9. Evaluation"
   ]
  },
  {
   "cell_type": "code",
   "execution_count": 10,
   "metadata": {
    "scrolled": true
   },
   "outputs": [
    {
     "name": "stdout",
     "output_type": "stream",
     "text": [
      "🚀 Bắt đầu final training...\n",
      "\n",
      "Epoch 1/50\n",
      "\u001b[1m636/641\u001b[0m \u001b[32m━━━━━━━━━━━━━━━━━━━\u001b[0m\u001b[37m━\u001b[0m \u001b[1m0s\u001b[0m 10ms/step - accuracy: 0.6751 - loss: 0.6073"
     ]
    },
    {
     "name": "stderr",
     "output_type": "stream",
     "text": [
      "WARNING:absl:You are saving your model as an HDF5 file via `model.save()` or `keras.saving.save_model(model)`. This file format is considered legacy. We recommend using instead the native Keras format, e.g. `model.save('my_model.keras')` or `keras.saving.save_model(model, 'my_model.keras')`. \n"
     ]
    },
    {
     "name": "stdout",
     "output_type": "stream",
     "text": [
      "\u001b[1m641/641\u001b[0m \u001b[32m━━━━━━━━━━━━━━━━━━━━\u001b[0m\u001b[37m\u001b[0m \u001b[1m11s\u001b[0m 13ms/step - accuracy: 0.7090 - loss: 0.5642 - val_accuracy: 0.7583 - val_loss: 0.5048\n",
      "Epoch 2/50\n",
      "\u001b[1m636/641\u001b[0m \u001b[32m━━━━━━━━━━━━━━━━━━━\u001b[0m\u001b[37m━\u001b[0m \u001b[1m0s\u001b[0m 8ms/step - accuracy: 0.7529 - loss: 0.5006"
     ]
    },
    {
     "name": "stderr",
     "output_type": "stream",
     "text": [
      "WARNING:absl:You are saving your model as an HDF5 file via `model.save()` or `keras.saving.save_model(model)`. This file format is considered legacy. We recommend using instead the native Keras format, e.g. `model.save('my_model.keras')` or `keras.saving.save_model(model, 'my_model.keras')`. \n"
     ]
    },
    {
     "name": "stdout",
     "output_type": "stream",
     "text": [
      "\u001b[1m641/641\u001b[0m \u001b[32m━━━━━━━━━━━━━━━━━━━━\u001b[0m\u001b[37m\u001b[0m \u001b[1m6s\u001b[0m 9ms/step - accuracy: 0.7544 - loss: 0.4962 - val_accuracy: 0.7815 - val_loss: 0.4504\n",
      "Epoch 3/50\n",
      "\u001b[1m639/641\u001b[0m \u001b[32m━━━━━━━━━━━━━━━━━━━\u001b[0m\u001b[37m━\u001b[0m \u001b[1m0s\u001b[0m 8ms/step - accuracy: 0.7749 - loss: 0.4652"
     ]
    },
    {
     "name": "stderr",
     "output_type": "stream",
     "text": [
      "WARNING:absl:You are saving your model as an HDF5 file via `model.save()` or `keras.saving.save_model(model)`. This file format is considered legacy. We recommend using instead the native Keras format, e.g. `model.save('my_model.keras')` or `keras.saving.save_model(model, 'my_model.keras')`. \n"
     ]
    },
    {
     "name": "stdout",
     "output_type": "stream",
     "text": [
      "\u001b[1m641/641\u001b[0m \u001b[32m━━━━━━━━━━━━━━━━━━━━\u001b[0m\u001b[37m\u001b[0m \u001b[1m6s\u001b[0m 9ms/step - accuracy: 0.7722 - loss: 0.4673 - val_accuracy: 0.7905 - val_loss: 0.4445\n",
      "Epoch 4/50\n",
      "\u001b[1m641/641\u001b[0m \u001b[32m━━━━━━━━━━━━━━━━━━━━\u001b[0m\u001b[37m\u001b[0m \u001b[1m0s\u001b[0m 8ms/step - accuracy: 0.7844 - loss: 0.4471"
     ]
    },
    {
     "name": "stderr",
     "output_type": "stream",
     "text": [
      "WARNING:absl:You are saving your model as an HDF5 file via `model.save()` or `keras.saving.save_model(model)`. This file format is considered legacy. We recommend using instead the native Keras format, e.g. `model.save('my_model.keras')` or `keras.saving.save_model(model, 'my_model.keras')`. \n"
     ]
    },
    {
     "name": "stdout",
     "output_type": "stream",
     "text": [
      "\u001b[1m641/641\u001b[0m \u001b[32m━━━━━━━━━━━━━━━━━━━━\u001b[0m\u001b[37m\u001b[0m \u001b[1m6s\u001b[0m 9ms/step - accuracy: 0.7839 - loss: 0.4496 - val_accuracy: 0.7977 - val_loss: 0.4273\n",
      "Epoch 5/50\n",
      "\u001b[1m641/641\u001b[0m \u001b[32m━━━━━━━━━━━━━━━━━━━━\u001b[0m\u001b[37m\u001b[0m \u001b[1m0s\u001b[0m 10ms/step - accuracy: 0.7889 - loss: 0.4387"
     ]
    },
    {
     "name": "stderr",
     "output_type": "stream",
     "text": [
      "WARNING:absl:You are saving your model as an HDF5 file via `model.save()` or `keras.saving.save_model(model)`. This file format is considered legacy. We recommend using instead the native Keras format, e.g. `model.save('my_model.keras')` or `keras.saving.save_model(model, 'my_model.keras')`. \n"
     ]
    },
    {
     "name": "stdout",
     "output_type": "stream",
     "text": [
      "\u001b[1m641/641\u001b[0m \u001b[32m━━━━━━━━━━━━━━━━━━━━\u001b[0m\u001b[37m\u001b[0m \u001b[1m7s\u001b[0m 11ms/step - accuracy: 0.7922 - loss: 0.4357 - val_accuracy: 0.7998 - val_loss: 0.4166\n",
      "Epoch 6/50\n",
      "\u001b[1m641/641\u001b[0m \u001b[32m━━━━━━━━━━━━━━━━━━━━\u001b[0m\u001b[37m\u001b[0m \u001b[1m6s\u001b[0m 9ms/step - accuracy: 0.7984 - loss: 0.4202 - val_accuracy: 0.7316 - val_loss: 0.5182\n",
      "Epoch 7/50\n",
      "\u001b[1m638/641\u001b[0m \u001b[32m━━━━━━━━━━━━━━━━━━━\u001b[0m\u001b[37m━\u001b[0m \u001b[1m0s\u001b[0m 8ms/step - accuracy: 0.8081 - loss: 0.4051"
     ]
    },
    {
     "name": "stderr",
     "output_type": "stream",
     "text": [
      "WARNING:absl:You are saving your model as an HDF5 file via `model.save()` or `keras.saving.save_model(model)`. This file format is considered legacy. We recommend using instead the native Keras format, e.g. `model.save('my_model.keras')` or `keras.saving.save_model(model, 'my_model.keras')`. \n"
     ]
    },
    {
     "name": "stdout",
     "output_type": "stream",
     "text": [
      "\u001b[1m641/641\u001b[0m \u001b[32m━━━━━━━━━━━━━━━━━━━━\u001b[0m\u001b[37m\u001b[0m \u001b[1m6s\u001b[0m 9ms/step - accuracy: 0.8064 - loss: 0.4088 - val_accuracy: 0.8117 - val_loss: 0.3990\n",
      "Epoch 8/50\n",
      "\u001b[1m637/641\u001b[0m \u001b[32m━━━━━━━━━━━━━━━━━━━\u001b[0m\u001b[37m━\u001b[0m \u001b[1m0s\u001b[0m 8ms/step - accuracy: 0.8078 - loss: 0.4032"
     ]
    },
    {
     "name": "stderr",
     "output_type": "stream",
     "text": [
      "WARNING:absl:You are saving your model as an HDF5 file via `model.save()` or `keras.saving.save_model(model)`. This file format is considered legacy. We recommend using instead the native Keras format, e.g. `model.save('my_model.keras')` or `keras.saving.save_model(model, 'my_model.keras')`. \n"
     ]
    },
    {
     "name": "stdout",
     "output_type": "stream",
     "text": [
      "\u001b[1m641/641\u001b[0m \u001b[32m━━━━━━━━━━━━━━━━━━━━\u001b[0m\u001b[37m\u001b[0m \u001b[1m6s\u001b[0m 9ms/step - accuracy: 0.8108 - loss: 0.4007 - val_accuracy: 0.8153 - val_loss: 0.3935\n",
      "Epoch 9/50\n",
      "\u001b[1m641/641\u001b[0m \u001b[32m━━━━━━━━━━━━━━━━━━━━\u001b[0m\u001b[37m\u001b[0m \u001b[1m0s\u001b[0m 9ms/step - accuracy: 0.8218 - loss: 0.3805"
     ]
    },
    {
     "name": "stderr",
     "output_type": "stream",
     "text": [
      "WARNING:absl:You are saving your model as an HDF5 file via `model.save()` or `keras.saving.save_model(model)`. This file format is considered legacy. We recommend using instead the native Keras format, e.g. `model.save('my_model.keras')` or `keras.saving.save_model(model, 'my_model.keras')`. \n"
     ]
    },
    {
     "name": "stdout",
     "output_type": "stream",
     "text": [
      "\u001b[1m641/641\u001b[0m \u001b[32m━━━━━━━━━━━━━━━━━━━━\u001b[0m\u001b[37m\u001b[0m \u001b[1m6s\u001b[0m 10ms/step - accuracy: 0.8182 - loss: 0.3908 - val_accuracy: 0.8182 - val_loss: 0.3897\n",
      "Epoch 10/50\n",
      "\u001b[1m641/641\u001b[0m \u001b[32m━━━━━━━━━━━━━━━━━━━━\u001b[0m\u001b[37m\u001b[0m \u001b[1m6s\u001b[0m 10ms/step - accuracy: 0.8208 - loss: 0.3822 - val_accuracy: 0.8088 - val_loss: 0.3886\n",
      "Epoch 11/50\n",
      "\u001b[1m639/641\u001b[0m \u001b[32m━━━━━━━━━━━━━━━━━━━\u001b[0m\u001b[37m━\u001b[0m \u001b[1m0s\u001b[0m 8ms/step - accuracy: 0.8262 - loss: 0.3679"
     ]
    },
    {
     "name": "stderr",
     "output_type": "stream",
     "text": [
      "WARNING:absl:You are saving your model as an HDF5 file via `model.save()` or `keras.saving.save_model(model)`. This file format is considered legacy. We recommend using instead the native Keras format, e.g. `model.save('my_model.keras')` or `keras.saving.save_model(model, 'my_model.keras')`. \n"
     ]
    },
    {
     "name": "stdout",
     "output_type": "stream",
     "text": [
      "\u001b[1m641/641\u001b[0m \u001b[32m━━━━━━━━━━━━━━━━━━━━\u001b[0m\u001b[37m\u001b[0m \u001b[1m6s\u001b[0m 10ms/step - accuracy: 0.8240 - loss: 0.3728 - val_accuracy: 0.8197 - val_loss: 0.3950\n",
      "Epoch 12/50\n",
      "\u001b[1m641/641\u001b[0m \u001b[32m━━━━━━━━━━━━━━━━━━━━\u001b[0m\u001b[37m\u001b[0m \u001b[1m6s\u001b[0m 10ms/step - accuracy: 0.8307 - loss: 0.3652 - val_accuracy: 0.8184 - val_loss: 0.3976\n",
      "Epoch 13/50\n",
      "\u001b[1m641/641\u001b[0m \u001b[32m━━━━━━━━━━━━━━━━━━━━\u001b[0m\u001b[37m\u001b[0m \u001b[1m6s\u001b[0m 10ms/step - accuracy: 0.8345 - loss: 0.3605 - val_accuracy: 0.8022 - val_loss: 0.4192\n",
      "Epoch 14/50\n",
      "\u001b[1m636/641\u001b[0m \u001b[32m━━━━━━━━━━━━━━━━━━━\u001b[0m\u001b[37m━\u001b[0m \u001b[1m0s\u001b[0m 8ms/step - accuracy: 0.8365 - loss: 0.3534"
     ]
    },
    {
     "name": "stderr",
     "output_type": "stream",
     "text": [
      "WARNING:absl:You are saving your model as an HDF5 file via `model.save()` or `keras.saving.save_model(model)`. This file format is considered legacy. We recommend using instead the native Keras format, e.g. `model.save('my_model.keras')` or `keras.saving.save_model(model, 'my_model.keras')`. \n"
     ]
    },
    {
     "name": "stdout",
     "output_type": "stream",
     "text": [
      "\u001b[1m641/641\u001b[0m \u001b[32m━━━━━━━━━━━━━━━━━━━━\u001b[0m\u001b[37m\u001b[0m \u001b[1m6s\u001b[0m 9ms/step - accuracy: 0.8379 - loss: 0.3513 - val_accuracy: 0.8287 - val_loss: 0.3694\n",
      "Epoch 15/50\n",
      "\u001b[1m641/641\u001b[0m \u001b[32m━━━━━━━━━━━━━━━━━━━━\u001b[0m\u001b[37m\u001b[0m \u001b[1m8s\u001b[0m 12ms/step - accuracy: 0.8437 - loss: 0.3427 - val_accuracy: 0.8061 - val_loss: 0.4051\n",
      "Epoch 16/50\n",
      "\u001b[1m641/641\u001b[0m \u001b[32m━━━━━━━━━━━━━━━━━━━━\u001b[0m\u001b[37m\u001b[0m \u001b[1m6s\u001b[0m 9ms/step - accuracy: 0.8482 - loss: 0.3348 - val_accuracy: 0.8180 - val_loss: 0.3879\n",
      "Epoch 17/50\n",
      "\u001b[1m641/641\u001b[0m \u001b[32m━━━━━━━━━━━━━━━━━━━━\u001b[0m\u001b[37m\u001b[0m \u001b[1m6s\u001b[0m 9ms/step - accuracy: 0.8466 - loss: 0.3304 - val_accuracy: 0.8221 - val_loss: 0.3840\n",
      "Epoch 18/50\n",
      "\u001b[1m640/641\u001b[0m \u001b[32m━━━━━━━━━━━━━━━━━━━\u001b[0m\u001b[37m━\u001b[0m \u001b[1m0s\u001b[0m 8ms/step - accuracy: 0.8521 - loss: 0.3230"
     ]
    },
    {
     "name": "stderr",
     "output_type": "stream",
     "text": [
      "WARNING:absl:You are saving your model as an HDF5 file via `model.save()` or `keras.saving.save_model(model)`. This file format is considered legacy. We recommend using instead the native Keras format, e.g. `model.save('my_model.keras')` or `keras.saving.save_model(model, 'my_model.keras')`. \n"
     ]
    },
    {
     "name": "stdout",
     "output_type": "stream",
     "text": [
      "\u001b[1m641/641\u001b[0m \u001b[32m━━━━━━━━━━━━━━━━━━━━\u001b[0m\u001b[37m\u001b[0m \u001b[1m6s\u001b[0m 9ms/step - accuracy: 0.8518 - loss: 0.3245 - val_accuracy: 0.8340 - val_loss: 0.3690\n",
      "Epoch 19/50\n",
      "\u001b[1m641/641\u001b[0m \u001b[32m━━━━━━━━━━━━━━━━━━━━\u001b[0m\u001b[37m\u001b[0m \u001b[1m6s\u001b[0m 9ms/step - accuracy: 0.8565 - loss: 0.3188 - val_accuracy: 0.8238 - val_loss: 0.3988\n",
      "Epoch 20/50\n",
      "\u001b[1m641/641\u001b[0m \u001b[32m━━━━━━━━━━━━━━━━━━━━\u001b[0m\u001b[37m\u001b[0m \u001b[1m6s\u001b[0m 9ms/step - accuracy: 0.8546 - loss: 0.3151 - val_accuracy: 0.8316 - val_loss: 0.3770\n",
      "Epoch 21/50\n",
      "\u001b[1m641/641\u001b[0m \u001b[32m━━━━━━━━━━━━━━━━━━━━\u001b[0m\u001b[37m\u001b[0m \u001b[1m6s\u001b[0m 9ms/step - accuracy: 0.8597 - loss: 0.3093 - val_accuracy: 0.8328 - val_loss: 0.3869\n",
      "Epoch 22/50\n",
      "\u001b[1m641/641\u001b[0m \u001b[32m━━━━━━━━━━━━━━━━━━━━\u001b[0m\u001b[37m\u001b[0m \u001b[1m6s\u001b[0m 10ms/step - accuracy: 0.8639 - loss: 0.3018 - val_accuracy: 0.8274 - val_loss: 0.4090\n",
      "Epoch 23/50\n",
      "\u001b[1m640/641\u001b[0m \u001b[32m━━━━━━━━━━━━━━━━━━━\u001b[0m\u001b[37m━\u001b[0m \u001b[1m0s\u001b[0m 11ms/step - accuracy: 0.8722 - loss: 0.2833"
     ]
    },
    {
     "name": "stderr",
     "output_type": "stream",
     "text": [
      "WARNING:absl:You are saving your model as an HDF5 file via `model.save()` or `keras.saving.save_model(model)`. This file format is considered legacy. We recommend using instead the native Keras format, e.g. `model.save('my_model.keras')` or `keras.saving.save_model(model, 'my_model.keras')`. \n"
     ]
    },
    {
     "name": "stdout",
     "output_type": "stream",
     "text": [
      "\u001b[1m641/641\u001b[0m \u001b[32m━━━━━━━━━━━━━━━━━━━━\u001b[0m\u001b[37m\u001b[0m \u001b[1m8s\u001b[0m 12ms/step - accuracy: 0.8656 - loss: 0.2957 - val_accuracy: 0.8346 - val_loss: 0.3728\n",
      "\n",
      "✅ Training hoàn thành!\n"
     ]
    }
   ],
   "source": [
    "# Build final model\n",
    "model = build_model_cnn(X_train.shape[1:])\n",
    "\n",
    "# Callbacks\n",
    "callbacks = [\n",
    "    EarlyStopping(\n",
    "        monitor='val_loss',\n",
    "        patience=EARLY_STOPPING_PATIENCE,\n",
    "        restore_best_weights=True\n",
    "    ),\n",
    "    ModelCheckpoint(\n",
    "        MODEL_PATH,\n",
    "        monitor='val_accuracy',\n",
    "        save_best_only=True\n",
    "    )\n",
    "]\n",
    "\n",
    "print(\"🚀 Bắt đầu final training...\\n\")\n",
    "\n",
    "# Train\n",
    "history = model.fit(\n",
    "    X_train, y_train,\n",
    "    validation_data=(X_test, y_test),\n",
    "    epochs=EPOCHS,\n",
    "    batch_size=BATCH_SIZE,\n",
    "    callbacks=callbacks,\n",
    "    verbose=1\n",
    ")\n",
    "\n",
    "print(\"\\n✅ Training hoàn thành!\")"
   ]
  },
  {
   "cell_type": "markdown",
   "metadata": {},
   "source": [
    "## 10. Training History"
   ]
  },
  {
   "cell_type": "code",
   "execution_count": 11,
   "metadata": {
    "scrolled": true
   },
   "outputs": [
    {
     "name": "stderr",
     "output_type": "stream",
     "text": [
      "WARNING:absl:Compiled the loaded model, but the compiled metrics have yet to be built. `model.compile_metrics` will be empty until you train or evaluate the model.\n"
     ]
    },
    {
     "name": "stdout",
     "output_type": "stream",
     "text": [
      "\u001b[1m161/161\u001b[0m \u001b[32m━━━━━━━━━━━━━━━━━━━━\u001b[0m\u001b[37m\u001b[0m \u001b[1m1s\u001b[0m 5ms/step\n"
     ]
    },
    {
     "data": {
      "image/png": "[encoded data removed]",
      "text/plain": [
       "<Figure size 800x600 with 2 Axes>"
      ]
     },
     "metadata": {},
     "output_type": "display_data"
    },
    {
     "name": "stdout",
     "output_type": "stream",
     "text": [
      "\n",
      "============================================================\n",
      "📊 CLASSIFICATION REPORT\n",
      "============================================================\n",
      "              precision    recall  f1-score   support\n",
      "\n",
      "      Absent       0.80      0.89      0.84      2563\n",
      "     Present       0.88      0.78      0.82      2563\n",
      "\n",
      "    accuracy                           0.83      5126\n",
      "   macro avg       0.84      0.83      0.83      5126\n",
      "weighted avg       0.84      0.83      0.83      5126\n",
      "\n",
      "\n",
      "Test Accuracy: 0.8346\n",
      "============================================================\n"
     ]
    }
   ],
   "source": [
    "# Load best model\n",
    "from tensorflow.keras.models import load_model\n",
    "model = load_model(MODEL_PATH)\n",
    "\n",
    "# Predict\n",
    "y_pred = np.argmax(model.predict(X_test), axis=1)\n",
    "\n",
    "# Confusion Matrix\n",
    "cm = confusion_matrix(y_test, y_pred)\n",
    "plt.figure(figsize=(8, 6))\n",
    "sns.heatmap(\n",
    "    cm, annot=True, fmt='d', cmap='Blues',\n",
    "    xticklabels=['Absent', 'Present'],\n",
    "    yticklabels=['Absent', 'Present']\n",
    ")\n",
    "plt.xlabel('Predicted')\n",
    "plt.ylabel('True')\n",
    "plt.title('Confusion Matrix')\n",
    "plt.show()\n",
    "\n",
    "# Classification Report\n",
    "print(\"\\n\" + \"=\"*60)\n",
    "print(\"📊 CLASSIFICATION REPORT\")\n",
    "print(\"=\"*60)\n",
    "print(classification_report(\n",
    "    y_test, y_pred,\n",
    "    target_names=['Absent', 'Present']\n",
    "))\n",
    "\n",
    "# Test Accuracy\n",
    "test_acc = accuracy_score(y_test, y_pred)\n",
    "print(f\"\\nTest Accuracy: {test_acc:.4f}\")\n",
    "print(\"=\"*60)"
   ]
  },
  {
   "cell_type": "markdown",
   "metadata": {},
   "source": [
    "## 12. Training History"
   ]
  },
  {
   "cell_type": "code",
   "execution_count": 12,
   "metadata": {},
   "outputs": [
    {
     "data": {
      "image/png": "[encoded data removed]",
      "text/plain": [
       "<Figure size 1400x500 with 2 Axes>"
      ]
     },
     "metadata": {},
     "output_type": "display_data"
    }
   ],
   "source": [
    "# Plot training history\n",
    "fig, (ax1, ax2) = plt.subplots(1, 2, figsize=(14, 5))\n",
    "\n",
    "# Accuracy\n",
    "ax1.plot(history.history['accuracy'], label='Train')\n",
    "ax1.plot(history.history['val_accuracy'], label='Validation')\n",
    "ax1.set_title('Model Accuracy')\n",
    "ax1.set_xlabel('Epoch')\n",
    "ax1.set_ylabel('Accuracy')\n",
    "ax1.legend()\n",
    "ax1.grid(True)\n",
    "\n",
    "# Loss\n",
    "ax2.plot(history.history['loss'], label='Train')\n",
    "ax2.plot(history.history['val_loss'], label='Validation')\n",
    "ax2.set_title('Model Loss')\n",
    "ax2.set_xlabel('Epoch')\n",
    "ax2.set_ylabel('Loss')\n",
    "ax2.legend()\n",
    "ax2.grid(True)\n",
    "\n",
    "plt.tight_layout()\n",
    "plt.show()"
   ]
  }
 ],
 "metadata": {
  "kernelspec": {
   "display_name": "Python 3 (ipykernel)",
   "language": "python",
   "name": "python3"
  },
  "language_info": {
   "codemirror_mode": {
    "name": "ipython",
    "version": 3
   },
   "file_extension": ".py",
   "mimetype": "text/x-python",
   "name": "python",
   "nbconvert_exporter": "python",
   "pygments_lexer": "ipython3",
   "version": "3.13.3"
  }
 },
 "nbformat": 4,
 "nbformat_minor": 4
}
